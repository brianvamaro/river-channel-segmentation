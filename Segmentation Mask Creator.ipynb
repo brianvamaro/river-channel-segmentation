{
  "cells": [
    {
      "cell_type": "code",
      "execution_count": null,
      "metadata": {
        "id": "b0wUeJdFt5_V"
      },
      "outputs": [],
      "source": [
        "#!pip install GDAL"
      ]
    },
    {
      "cell_type": "code",
      "execution_count": null,
      "metadata": {
        "id": "oefbVa2Py8K8"
      },
      "outputs": [],
      "source": [
        "from osgeo import gdal\n",
        "from osgeo import gdalconst\n",
        "import glob\n",
        "import numpy as np\n",
        "import os\n",
        "\n",
        "basin_name = 'SA_84479'"
      ]
    },
    {
      "cell_type": "markdown",
      "metadata": {
        "id": "4JrMzBje5R1o"
      },
      "source": [
        "Making the segmentation masks from the binary tiles"
      ]
    },
    {
      "cell_type": "code",
      "execution_count": null,
      "metadata": {
        "id": "DaoCD-JO0_3P"
      },
      "outputs": [],
      "source": [
        "new_size = 64 / 0.7\n",
        "\n",
        "#First iteration is noChannel, then it is channel\n",
        "\n",
        "# set the folder path where the TIFF files are located\n",
        "folder_paths = ['No_Channel/', 'Channel/']\n",
        "\n",
        "output_folder_name = \"newMaskedTiles64/\"\n",
        "output_folder_name_resized = \"newMaskedTilesResized64/\"\n",
        "filename_endings = [\"maskedTileNoChannel.tif\", \"maskedTileChannel.tif\"]\n",
        "\n",
        "output_folder_name_resized_mask = output_folder_name_resized\n",
        "\n",
        "# Create the output folder if it doesn't exist\n",
        "if not os.path.exists(output_folder_name):\n",
        "        os.makedirs(output_folder_name)\n",
        "if not os.path.exists(output_folder_name_resized):\n",
        "        os.makedirs(output_folder_name_resized)\n",
        "\n",
        "\n",
        "for i in range(len(folder_paths)):\n",
        "    folder_path = folder_paths[i]\n",
        "    # create a list of file paths for all TIFF files in the folder\n",
        "    tiff_files = glob.glob(folder_path + '*.tif')\n",
        "\n",
        "    # loop through each TIFF file and read its raster data\n",
        "    for count, input_file in enumerate(tiff_files):\n",
        "        input_ds = gdal.Open(input_file, gdal.GA_ReadOnly)\n",
        "\n",
        "\n",
        "        # get the number of rows and columns in the input raster\n",
        "        cols = input_ds.RasterXSize\n",
        "        rows = input_ds.RasterYSize\n",
        "\n",
        "        # create an output raster with one band that is all zeros\n",
        "        driver = gdal.GetDriverByName(\"GTiff\")\n",
        "        filename = output_folder_name + str(count) + filename_endings[i] #Need to create the folder beforehand\n",
        "        output_file = filename\n",
        "        output_ds = driver.Create(output_file, cols, rows, 1, gdal.GDT_Float32)\n",
        "        output_band = output_ds.GetRasterBand(1)\n",
        "        output_array = np.zeros((rows, cols), dtype=np.float32)\n",
        "        if i == 1:\n",
        "                output_array = np.ones((rows, cols), dtype=np.float32)\n",
        "\n",
        "        # write the output array to the output raster band\n",
        "        output_band.WriteArray(output_array)\n",
        "\n",
        "        # set the geotransform and projection for the output raster\n",
        "        output_ds.SetGeoTransform(input_ds.GetGeoTransform())\n",
        "        output_ds.SetProjection(input_ds.GetProjection())\n",
        "\n",
        "\n",
        "\n",
        "        # close the raster datasets\n",
        "        input_ds = None\n",
        "        output_ds = None\n",
        "\n",
        "\n",
        "        xres = cols / new_size\n",
        "        yres = rows / new_size\n",
        "        output_filename = output_folder_name_resized + str(count) + filename_endings[i]\n",
        "        gdal.Warp(output_filename, filename, xRes=xres, yRes=yres, resampleAlg=gdal.GRA_Max)"
      ]
    },
    {
      "cell_type": "markdown",
      "metadata": {
        "id": "w2dzYSEM5R16"
      },
      "source": [
        "Making the resized \"Normal\" tiles (i.e. saving the optical imagery tiles)"
      ]
    },
    {
      "cell_type": "code",
      "execution_count": null,
      "metadata": {
        "id": "JK9C-r7J5R16"
      },
      "outputs": [],
      "source": [
        "new_size = new_size\n",
        "\n",
        "output_folder_name_normal = \"newNormalTilesResized64/\"\n",
        "\n",
        "if not os.path.exists(output_folder_name_normal):\n",
        "        os.makedirs(output_folder_name_normal)\n",
        "\n",
        "for i in range(len(folder_paths)):\n",
        "        folder_path = folder_paths[i]\n",
        "        # create a list of file paths for all TIFF files in the folder\n",
        "        tiff_files = glob.glob(folder_path + '*.tif')\n",
        "        # loop through each TIFF file and read its raster data\n",
        "        for count, input_file in enumerate(tiff_files):\n",
        "                input_ds = gdal.Open(input_file, gdal.GA_ReadOnly)\n",
        "\n",
        "                # get the number of rows and columns in the input raster\n",
        "                cols = input_ds.RasterXSize\n",
        "                rows = input_ds.RasterYSize\n",
        "                # close the raster datasets\n",
        "                input_ds = None\n",
        "\n",
        "                xres = cols / new_size\n",
        "                yres = rows / new_size\n",
        "                output_filename = output_folder_name_normal + str(count) + \".tif\"\n",
        "                gdal.Warp(output_filename, input_file, xRes=xres, yRes=yres)"
      ]
    },
    {
      "cell_type": "markdown",
      "metadata": {
        "id": "O0KK4CzU5R17"
      },
      "source": [
        "Making the mosaic of the original images and the masks"
      ]
    },
    {
      "cell_type": "code",
      "execution_count": null,
      "metadata": {
        "id": "yFXqE8co206z"
      },
      "outputs": [],
      "source": [
        "# Set the path to the input rasters\n",
        "input_folders = [output_folder_name_resized_mask, output_folder_name_normal]\n",
        "output_rasters = ['newMosaicMasked64.tif', 'newMosaicNormal64.tif']\n",
        "for i in range(2):\n",
        "    input_folder = input_folders[i]\n",
        "    output_raster = output_rasters[i]\n",
        "\n",
        "    # List all the raster files in the input folder\n",
        "    raster_files = [os.path.join(input_folder, f) for f in os.listdir(input_folder) if f.endswith('.tif')]\n",
        "\n",
        "    # Build a virtual raster from the input rasters\n",
        "    vrt_options = gdal.BuildVRTOptions(resolution='average', addAlpha=False)\n",
        "    vrt_ds = gdal.BuildVRT('temp.vrt', raster_files, options=vrt_options)\n",
        "\n",
        "    # Set the output raster properties based on the virtual raster\n",
        "    x_min, x_res, x_skew, y_min, y_skew, y_res = vrt_ds.GetGeoTransform()\n",
        "    x_size = vrt_ds.RasterXSize\n",
        "    y_size = vrt_ds.RasterYSize\n",
        "    n_bands = vrt_ds.RasterCount\n",
        "    band_type = vrt_ds.GetRasterBand(1).DataType\n",
        "\n",
        "    # Create the output raster and write the virtual raster data to it\n",
        "    driver = gdal.GetDriverByName('GTiff')\n",
        "    output_ds = driver.Create(output_raster, x_size, y_size, n_bands, band_type)\n",
        "    output_ds.SetGeoTransform((x_min, x_res, x_skew, y_min, y_skew, y_res))\n",
        "    for i in range(1, n_bands+1):\n",
        "        band = vrt_ds.GetRasterBand(i)\n",
        "        output_band = output_ds.GetRasterBand(i)\n",
        "        output_band.WriteArray(band.ReadAsArray())\n",
        "\n",
        "    # Set the output raster projection\n",
        "    output_ds.SetProjection(vrt_ds.GetProjection())\n",
        "\n",
        "    # Clean up\n",
        "    output_ds = None\n",
        "    vrt_ds = None\n",
        "    os.remove('temp.vrt')"
      ]
    },
    {
      "cell_type": "markdown",
      "metadata": {
        "id": "cWQUqGfj5R18"
      },
      "source": [
        "Splitting the new mosaic into the \"megatiles\""
      ]
    },
    {
      "cell_type": "code",
      "execution_count": null,
      "metadata": {
        "id": "ABssq4SI5R18"
      },
      "outputs": [],
      "source": [
        "# Source: https://gis.stackexchange.com/questions/221671/splitting-tif-image-into-several-tiles\n",
        "\n",
        "in_path = ''\n",
        "input_filenames = output_rasters\n",
        "\n",
        "out_paths = ['BasinwiseSplit/' + basin_name + '/Masks64512/', 'BasinwiseSplit/' + basin_name + '/GroundTruth64512/']\n",
        "output_filename = basin_name + '_tile_'\n",
        "\n",
        "\n",
        "for i in range(2):\n",
        "    input_filename = input_filenames[i]\n",
        "    out_path = out_paths[i]\n",
        "\n",
        "    if not os.path.exists(out_path):\n",
        "        os.makedirs(out_path)\n",
        "\n",
        "    tile_size_x = 512\n",
        "    tile_size_y = 512\n",
        "\n",
        "    ds = gdal.Open(in_path + input_filename)\n",
        "    band = ds.GetRasterBand(1)\n",
        "    xsize = band.XSize\n",
        "    ysize = band.YSize\n",
        "\n",
        "    for i in range(0, xsize, tile_size_x):\n",
        "        for j in range(0, ysize, tile_size_y):\n",
        "            com_string = \"gdal_translate -of GTIFF -srcwin \" + str(i)+ \", \" + str(j) + \", \" + str(tile_size_x) + \", \" + str(tile_size_y) + \" \" + str(in_path) + str(input_filename) + \" \" + str(out_path) + str(output_filename) + str(i) + \"_\" + str(j) + \".tif\"\n",
        "            os.system(com_string)"
      ]
    },
    {
      "cell_type": "markdown",
      "source": [
        "Converting the tiffs into pngs so that they can be passed to the ResNet"
      ],
      "metadata": {
        "id": "EdkJcL7YAE0W"
      }
    },
    {
      "cell_type": "code",
      "execution_count": null,
      "metadata": {
        "id": "3Ia-zGGK5R19",
        "outputId": "dd92f9da-e289-4985-9519-cca93647741a"
      },
      "outputs": [
        {
          "name": "stdout",
          "output_type": "stream",
          "text": [
            "Conversion completed!\n",
            "Conversion completed!\n"
          ]
        }
      ],
      "source": [
        "def convert_tiff_to_png(tiff_folder, png_folder):\n",
        "    # Create the output folder if it doesn't exist\n",
        "    if not os.path.exists(png_folder):\n",
        "        os.makedirs(png_folder)\n",
        "\n",
        "    # Get a list of TIFF files in the input folder using glob\n",
        "    tiff_files = glob.glob(os.path.join(tiff_folder, '*.tif')) + glob.glob(os.path.join(tiff_folder, '*.tiff'))\n",
        "    #print(tiff_files)\n",
        "\n",
        "    # Iterate over each TIFF file and convert it to PNG\n",
        "    for tiff_file in tiff_files:\n",
        "        tiff_path = tiff_file\n",
        "        png_file = os.path.splitext(os.path.basename(tiff_file))[0] + '.png'\n",
        "        png_path = os.path.join(png_folder, png_file)\n",
        "\n",
        "        # Open the TIFF file\n",
        "        tiff_ds = gdal.Open(tiff_path)\n",
        "        if tiff_ds is None:\n",
        "            print(f\"Error opening {tiff_file}. Skipping...\")\n",
        "            continue\n",
        "\n",
        "        # Convert the TIFF to PNG\n",
        "        gdal.Translate(png_path, tiff_ds, format='PNG')\n",
        "\n",
        "        # Close the TIFF dataset\n",
        "        tiff_ds = None\n",
        "\n",
        "        #print(f\"Converted {tiff_file} to {png_file}\")\n",
        "\n",
        "    print(\"Conversion completed!\")\n",
        "\n",
        "datasetDirectory = basin_name + \"_64512/\"\n",
        "\n",
        "tiff_folder = 'GroundTruth64512'\n",
        "normal_png_folder = datasetDirectory + \"Images\"\n",
        "\n",
        "convert_tiff_to_png(tiff_folder, normal_png_folder)\n",
        "\n",
        "tiff_folder = 'Masks64512'\n",
        "mask_png_folder = datasetDirectory + \"Masks\"\n",
        "\n",
        "convert_tiff_to_png(tiff_folder, mask_png_folder)\n"
      ]
    },
    {
      "cell_type": "markdown",
      "source": [
        "Cleaning any empty images (i.e. any that were fully transparent)"
      ],
      "metadata": {
        "id": "z5aypI7I_8ZG"
      }
    },
    {
      "cell_type": "code",
      "execution_count": null,
      "metadata": {
        "id": "stdRb68K5R1-"
      },
      "outputs": [],
      "source": [
        "from PIL import Image\n",
        "\n",
        "def is_png_fully_transparent(png_path):\n",
        "    image = Image.open(png_path)\n",
        "    image = image.convert(\"RGBA\")\n",
        "\n",
        "    # Get the alpha channel data\n",
        "    alpha_data = image.split()[3]\n",
        "\n",
        "    # Check if all alpha values are zero (transparent)\n",
        "    if not any(alpha_data.getdata()):\n",
        "        return True\n",
        "\n",
        "    return False\n",
        "\n",
        "normal_png_files = glob.glob(os.path.join(normal_png_folder + \"/\", '*.png'))\n",
        "\n",
        "for png in normal_png_files:\n",
        "\n",
        "    if is_png_fully_transparent(png):\n",
        "        filename = png.split(\"\\\\\")[-1]\n",
        "        os.remove(png)\n",
        "        os.remove(mask_png_folder +\"/\" + filename)\n",
        "\n",
        "directories = [normal_png_folder+\"/\",mask_png_folder+\"/\"]  # Replace with the path to your directory\n",
        "\n",
        "for directory in directories:\n",
        "    # Iterate over all files in the directory\n",
        "    for filename in os.listdir(directory):\n",
        "        if filename.endswith('.xml'):\n",
        "            file_path = os.path.join(directory, filename)  # Get the full path of the file\n",
        "            os.remove(file_path)  # Delete the file"
      ]
    }
  ],
  "metadata": {
    "colab": {
      "provenance": []
    },
    "kernelspec": {
      "display_name": "Python 3 (ipykernel)",
      "language": "python",
      "name": "python3"
    },
    "language_info": {
      "codemirror_mode": {
        "name": "ipython",
        "version": 3
      },
      "file_extension": ".py",
      "mimetype": "text/x-python",
      "name": "python",
      "nbconvert_exporter": "python",
      "pygments_lexer": "ipython3",
      "version": "3.11.3"
    }
  },
  "nbformat": 4,
  "nbformat_minor": 0
}